{
 "cells": [
  {
   "cell_type": "code",
   "execution_count": null,
   "metadata": {},
   "outputs": [
    {
     "ename": "",
     "evalue": "",
     "output_type": "error",
     "traceback": [
      "\u001b[1;31mRunning cells with 'Python 3.12.2' requires the ipykernel package.\n",
      "\u001b[1;31mRun the following command to install 'ipykernel' into the Python environment. \n",
      "\u001b[1;31mCommand: '/opt/homebrew/bin/python3 -m pip install ipykernel -U --user --force-reinstall'"
     ]
    }
   ],
   "source": [
    "import os\n",
    "import pandas as pd\n",
    "import matplotlib.pyplot as plt\n",
    "\n",
    "# Function to merge CSV files in a directory\n",
    "def merge_csv_files(folder_path):\n",
    "    all_csv_data = pd.DataFrame()\n",
    "    for filename in os.listdir(folder_path):\n",
    "        if filename.endswith(\".csv\"):\n",
    "            csv_data = pd.read_csv(os.path.join(folder_path, filename))\n",
    "            all_csv_data = pd.concat([all_csv_data, csv_data], ignore_index=True)\n",
    "    return all_csv_data\n",
    "\n",
    "# Path to the main directory\n",
    "main_directory = \"All_outputs/\"\n",
    "\n",
    "# Creating empty dataframe\n",
    "Final_DF_All_SSPs_All_Crossings_All_Countries = pd.DataFrame()\n",
    "\n",
    "# Loop through each country folder\n",
    "for country_folder in os.listdir(main_directory):\n",
    "    country_folder_path = os.path.join(main_directory, country_folder)\n",
    "    if os.path.isdir(country_folder_path):\n",
    "        # Merge CSV files in the country folder\n",
    "        country_data = merge_csv_files(country_folder_path)\n",
    "        if not country_data.empty:\n",
    "            # Add country abbreviation column\n",
    "            country_data['Country'] = country_folder\n",
    "            # Append country data to the main DataFrame\n",
    "            Final_DF_All_SSPs_All_Crossings_All_Countries = pd.concat([Final_DF_All_SSPs_All_Crossings_All_Countries, country_data], ignore_index=True)\n",
    "\n",
    "# Define the file path\n",
    "file_path = \"Final_DF_All_SSPs_All_Crossings_All_Countries.csv\"\n",
    "Final_DF_All_SSPs_All_Crossings_All_Countries.to_csv(file_path, index=False)\n",
    "\n",
    "Final_DF_All_SSPs_All_Crossings_All_Countries.columns\n"
   ]
  },
  {
   "cell_type": "code",
   "execution_count": null,
   "metadata": {},
   "outputs": [
    {
     "ename": "",
     "evalue": "",
     "output_type": "error",
     "traceback": [
      "\u001b[1;31mRunning cells with 'Python 3.12.2' requires the ipykernel package.\n",
      "\u001b[1;31mRun the following command to install 'ipykernel' into the Python environment. \n",
      "\u001b[1;31mCommand: '/opt/homebrew/bin/python3 -m pip install ipykernel -U --user --force-reinstall'"
     ]
    }
   ],
   "source": [
    "# Rename 'El_Salvador' to 'El Salvador' in the DataFrame\n",
    "Final_DF_All_SSPs_All_Crossings_All_Countries['Country'] = Final_DF_All_SSPs_All_Crossings_All_Countries['Country'].replace({'El_Salvador': 'El Salvador'})\n",
    "\n",
    "# Define the country codes\n",
    "country_codes = {\n",
    "    'Mexico': 'MEX',\n",
    "    'El Salvador': 'ELSAL',\n",
    "    'Honduras': 'HON',\n",
    "    'Guatemala': 'GUA'\n",
    "}\n",
    "\n",
    "# Insert the 'Country_Code' column after 'Country'\n",
    "column_index = Final_DF_All_SSPs_All_Crossings_All_Countries.columns.get_loc('Country') + 1\n",
    "Final_DF_All_SSPs_All_Crossings_All_Countries.insert(column_index, 'Country_Code', Final_DF_All_SSPs_All_Crossings_All_Countries['Country'].map(country_codes))\n",
    "# Final_DF_All_SSPs_All_Crossings_All_Countries\n"
   ]
  },
  {
   "cell_type": "markdown",
   "metadata": {},
   "source": [
    "# Sum of Immigrants Per Crossing"
   ]
  },
  {
   "cell_type": "markdown",
   "metadata": {},
   "source": [
    "# Total Immigrants by Country for Scenario"
   ]
  },
  {
   "cell_type": "code",
   "execution_count": null,
   "metadata": {},
   "outputs": [
    {
     "ename": "",
     "evalue": "",
     "output_type": "error",
     "traceback": [
      "\u001b[1;31mRunning cells with 'Python 3.12.2' requires the ipykernel package.\n",
      "\u001b[1;31mRun the following command to install 'ipykernel' into the Python environment. \n",
      "\u001b[1;31mCommand: '/opt/homebrew/bin/python3 -m pip install ipykernel -U --user --force-reinstall'"
     ]
    }
   ],
   "source": [
    "import seaborn as sns\n",
    "import matplotlib.pyplot as plt\n",
    "import matplotlib.dates as mdates\n",
    "import pandas as pd\n",
    "\n",
    "# Reshape the DataFrame using melt\n",
    "melted_df = Final_DF_All_SSPs_All_Crossings_All_Countries.melt(\n",
    "    id_vars=['Scenario', 'Crossing', 'Country', 'Country_Code'],\n",
    "    var_name='Year',\n",
    "    value_name='Total Immigrants'\n",
    ")\n",
    "\n",
    "# Convert 'Year' to datetime if necessary\n",
    "melted_df['Year'] = pd.to_datetime(melted_df['Year'], format='%Y')\n",
    "\n",
    "# Filter the data to include only every ten years or until 2100\n",
    "filtered_df = melted_df[melted_df['Year'].dt.year % 10 == 0]  # Every ten years\n",
    "filtered_df = filtered_df[filtered_df['Year'].dt.year <= 2100]  # Until 2100\n",
    "\n",
    "# Create a custom color palette for countries using 'viridis' palette\n",
    "custom_palette = 'viridis'\n",
    "\n",
    "# Group by scenario and plot\n",
    "scenarios = melted_df['Scenario'].unique()\n",
    "num_scenarios = len(scenarios)\n",
    "\n",
    "# Create subplots in a 2x2 grid\n",
    "fig, axes = plt.subplots(nrows=2, ncols=2, figsize=(16, 12))\n",
    "\n",
    "# Flatten the axes array for easier iteration\n",
    "axes = axes.flatten()\n",
    "\n",
    "for i, scenario in enumerate(scenarios):\n",
    "    scenario_df = filtered_df[filtered_df['Scenario'] == scenario]\n",
    "    \n",
    "    # Select the current subplot\n",
    "    ax = axes[i]\n",
    "    \n",
    "    # Use Seaborn's barplot with custom palette\n",
    "    sns.barplot(data=scenario_df, x=scenario_df['Year'].dt.year, y='Total Immigrants', hue='Country_Code', palette=custom_palette, ax=ax)\n",
    "    \n",
    "    # Customize the plot\n",
    "    ax.set_title(f'Total Immigrants by Country for Scenario: {scenario}\\n(95% Confidence Interval)')\n",
    "    ax.set_xlabel('Year')\n",
    "    ax.set_ylabel('Total Immigrants (100,000)')\n",
    "    ax.grid(True)\n",
    "    \n",
    "    # Change background color\n",
    "    ax.set_facecolor('#f0f0f0')\n",
    "    \n",
    "    # Annotate each bar with its corresponding value\n",
    "    for p in ax.patches:\n",
    "        ax.annotate(f'{int(p.get_height()):,}', (p.get_x() + p.get_width() / 2., p.get_height()),\n",
    "                     ha='center', va='bottom', fontsize=10, fontweight='bold', rotation=90, xytext=(0, 5),\n",
    "                     textcoords='offset points')\n",
    "\n",
    "# Adjust layout\n",
    "plt.tight_layout()\n",
    "\n",
    "# Save the plots\n",
    "# folder_path = \"Script_Output_Graphs_Dataframes/Crawler_Output_Graphs\"\n",
    "plt.savefig(f\"{folder_path}/Final_Graphs/immigrants_by_country_scenario.png\")\n",
    "\n",
    "# Show the plots\n",
    "plt.show()\n"
   ]
  },
  {
   "cell_type": "markdown",
   "metadata": {},
   "source": [
    "# Total Immigrants by Crossing"
   ]
  },
  {
   "cell_type": "code",
   "execution_count": null,
   "metadata": {},
   "outputs": [
    {
     "ename": "",
     "evalue": "",
     "output_type": "error",
     "traceback": [
      "\u001b[1;31mRunning cells with 'Python 3.12.2' requires the ipykernel package.\n",
      "\u001b[1;31mRun the following command to install 'ipykernel' into the Python environment. \n",
      "\u001b[1;31mCommand: '/opt/homebrew/bin/python3 -m pip install ipykernel -U --user --force-reinstall'"
     ]
    }
   ],
   "source": [
    "import seaborn as sns\n",
    "import matplotlib.pyplot as plt\n",
    "\n",
    "# Group by scenario and plot\n",
    "for scenario in melted_df['Scenario'].unique():\n",
    "    scenario_df = filtered_df[filtered_df['Scenario'] == scenario]\n",
    "    unique_countries = scenario_df['Country'].unique()\n",
    "\n",
    "    # Create subplots for each scenario\n",
    "    fig, axes = plt.subplots(2, 2, figsize=(12, 10))\n",
    "    fig.suptitle(f'Total Immigrants by Crossing for {scenario}', fontsize=16)\n",
    "\n",
    "    # Calculate min and max values for each country, scenario, and crossing\n",
    "    min_max_values = scenario_df.groupby(['Country', 'Scenario', 'Crossing'])['Total Immigrants'].agg(['min', 'max']).reset_index()\n",
    "\n",
    "    # Plot for each country\n",
    "    for i, country in enumerate(unique_countries):\n",
    "        if country != 'Crawler_Outputs':  # Exclude 'Crawler_Outputs' plot\n",
    "            row = i // 2\n",
    "            col = i % 2\n",
    "            country_df = scenario_df[scenario_df['Country'] == country]\n",
    "\n",
    "            # Check if the country has any data for the scenario\n",
    "            if not country_df.empty:\n",
    "                ax = sns.barplot(data=country_df, x=country_df['Year'].dt.year, y='Total Immigrants', hue='Crossing', ax=axes[row, col], palette='viridis', errorbar=('ci', 0))\n",
    "                ax.set_title(country)\n",
    "                ax.set_xlabel('Year')\n",
    "                ax.set_ylabel('Total Immigrants')\n",
    "                ax.grid(True)\n",
    "                ax.legend(loc='upper right')\n",
    "\n",
    "                # Set y-axis limits based on min and max values per country, scenario, and crossing\n",
    "                country_min_max = min_max_values[(min_max_values['Country'] == country) & (min_max_values['Scenario'] == scenario)]\n",
    "                if not country_min_max.empty:\n",
    "                    min_value = country_min_max['min'].min() - 0.1 * abs(country_min_max['min'].min())  # Add space before min value\n",
    "                    max_value = country_min_max['max'].max() + 0.1 * abs(country_min_max['max'].max())  # Add space after max value\n",
    "                    ax.set_ylim(min_value, max_value)\n",
    "\n",
    "                    # Calculate the step size based on the range of values\n",
    "                    value_range = max_value - min_value\n",
    "                    step_size = round(value_range / 5)  # Dividing into 5 steps\n",
    "\n",
    "                    # Set y-axis tick labels using the step size\n",
    "                    ax.set_yticks(range(int(min_value), int(max_value) + 1, step_size))\n",
    "\n",
    "                # Annotate each bar with the total number of immigrants\n",
    "                for p in ax.patches:\n",
    "                    if p.get_height() != 0:  # Ensure annotation is not placed on zero bars\n",
    "                        if p.get_height() > 0:\n",
    "                            annotation_height = p.get_height()\n",
    "                        else:\n",
    "                            annotation_height = p.get_height() - 0.02 * abs(max_value)  # Adjust for negative bars\n",
    "                        ax.annotate(f'{int(p.get_height()):,}', (p.get_x() + p.get_width() / 2., annotation_height),\n",
    "                                    ha='center', va='bottom', fontsize=8, rotation=90, xytext=(0, 5),\n",
    "                                    textcoords='offset points')\n",
    "\n",
    "    # Adjust layout\n",
    "    plt.tight_layout(pad=2)\n",
    "\n",
    "    # Show the plot\n",
    "    plt.show()"
   ]
  },
  {
   "cell_type": "code",
   "execution_count": null,
   "metadata": {},
   "outputs": [
    {
     "ename": "",
     "evalue": "",
     "output_type": "error",
     "traceback": [
      "\u001b[1;31mRunning cells with 'Python 3.12.2' requires the ipykernel package.\n",
      "\u001b[1;31mRun the following command to install 'ipykernel' into the Python environment. \n",
      "\u001b[1;31mCommand: '/opt/homebrew/bin/python3 -m pip install ipykernel -U --user --force-reinstall'"
     ]
    }
   ],
   "source": []
  }
 ],
 "metadata": {
  "kernelspec": {
   "display_name": "Python 3",
   "language": "python",
   "name": "python3"
  },
  "language_info": {
   "codemirror_mode": {
    "name": "ipython",
    "version": 3
   },
   "file_extension": ".py",
   "mimetype": "text/x-python",
   "name": "python",
   "nbconvert_exporter": "python",
   "pygments_lexer": "ipython3",
   "version": "3.12.2"
  }
 },
 "nbformat": 4,
 "nbformat_minor": 2
}
